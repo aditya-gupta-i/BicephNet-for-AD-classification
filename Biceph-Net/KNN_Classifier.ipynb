{
  "cells": [
    {
      "cell_type": "markdown",
      "source": [
        "**KNN CLASSIFIER**"
      ],
      "metadata": {
        "id": "H6f-5FikJuFm"
      }
    },
    {
      "cell_type": "code",
      "execution_count": null,
      "metadata": {
        "id": "AwYldJmbE4-Q"
      },
      "outputs": [],
      "source": [
        "import pandas as pd\n",
        "import scipy.io\n",
        "import numpy as np\n",
        "from sklearn.neighbors import KNeighborsClassifier"
      ]
    },
    {
      "cell_type": "code",
      "execution_count": null,
      "metadata": {
        "id": "x_DMSUPZE4-R"
      },
      "outputs": [],
      "source": [
        "adi_path = '/home/iitindmaths/caffe_root_adi/all_coronal/triplet_out'"
      ]
    },
    {
      "cell_type": "code",
      "execution_count": null,
      "metadata": {
        "id": "IVMBnsCmE4-R"
      },
      "outputs": [],
      "source": [
        "labels_tr = np.array(pd.read_csv(adi_path + '/labels_AD2_MCI1_CN0_train.csv', index_col = '0'))\n",
        "labels_val = np.array(pd.read_csv(adi_path + '/labels_AD2_MCI1_CN0_val.csv', index_col = '0'))\n",
        "labels_test = np.array(pd.read_csv(adi_path + '/labels_AD2_MCI1_CN0_test.csv', index_col = '0'))"
      ]
    },
    {
      "cell_type": "code",
      "execution_count": null,
      "metadata": {
        "id": "cDoXsTbvE4-R"
      },
      "outputs": [],
      "source": [
        "tr_feats = pd.read_csv(adi_path + '/feature_train.csv', index_col = '0')\n",
        "tr_val = pd.read_csv(adi_path + '/feature_val.csv', index_col = '0')\n",
        "test_feats = pd.read_csv(adi_path + '/feature_test.csv', index_col = '0')"
      ]
    },
    {
      "cell_type": "code",
      "execution_count": null,
      "metadata": {
        "id": "RmBDRwD5E4-T"
      },
      "outputs": [],
      "source": [
        "# TWEAK the number of nearest neighbours here\n",
        "model = KNeighborsClassifier(n_neighbors=7)\n",
        "model.fit(tr_feats,labels_tr.reshape(293552,))"
      ]
    },
    {
      "cell_type": "code",
      "execution_count": null,
      "metadata": {
        "id": "3IEWw4yqE4-T"
      },
      "outputs": [],
      "source": [
        "outt_tr = model.predict(tr_feats)"
      ]
    },
    {
      "cell_type": "code",
      "execution_count": null,
      "metadata": {
        "id": "ko0qFXc_E4-T",
        "outputId": "42b310b3-9fba-4362-a4a5-7930a4747cff"
      },
      "outputs": [
        {
          "name": "stdout",
          "output_type": "stream",
          "text": [
            "Acc1 _ train :  0.9805894696680656\n",
            "Acc2 _ train :  0.9988553987027852\n",
            "Acc3 _ train :  0.9992369324685234\n"
          ]
        }
      ],
      "source": [
        "cnt=0\n",
        "for u in range(293552):\n",
        "    if(outt_tr[u] == labels_tr[u]):\n",
        "        cnt += 1\n",
        "print(\"Acc1 _ train : \",cnt/293552)        \n",
        "\n",
        "outt_labels_tr = []\n",
        "\n",
        "cnta = 0\n",
        "cntc = 0\n",
        "for u in range(293552//112):\n",
        "    cntb=0\n",
        "    cnt0 = 0\n",
        "    cnt1 = 0\n",
        "    cnt2 = 0\n",
        "    for v in range(112):\n",
        "        if(outt_tr[u*112+v] == 1):\n",
        "            cnt1+=1\n",
        "        elif(outt_tr[u*112+v] == 2):\n",
        "            cnt2+=1\n",
        "        else:\n",
        "            cnt0+=1\n",
        "    pr2 = -1\n",
        "    if(cnt0 >= cnt1 and cnt0 >= cnt2):\n",
        "        pr2 = 0\n",
        "    elif(cnt1 >= cnt0 and cnt1 >= cnt2):\n",
        "        pr2 = 1\n",
        "    elif(cnt2 >= cnt0 and cnt2 >= cnt1):\n",
        "        pr2 = 2\n",
        "        \n",
        "    if(pr2 == labels_tr[u*112]):\n",
        "        cnta+=1\n",
        "    \n",
        "    pr = -1\n",
        "    if(cnt0>56):\n",
        "        pr = 0\n",
        "        outt_labels_tr.append(0)\n",
        "    elif(cnt2 > cnt1):\n",
        "        pr = 2\n",
        "        outt_labels_tr.append(2)\n",
        "    else:\n",
        "        pr = 1\n",
        "        outt_labels_tr.append(1)\n",
        "\n",
        "    if(pr == labels_tr[u*112]):\n",
        "        cntc+=1\n",
        "    \n",
        "    \n",
        "print(\"Acc2 _ train : \",cnta/(293552//112))        \n",
        "print(\"Acc3 _ train : \",cntc/(293552//112))        "
      ]
    },
    {
      "cell_type": "code",
      "execution_count": null,
      "metadata": {
        "id": "-UB8mt5zE4-T"
      },
      "outputs": [],
      "source": [
        "outt_val = model.predict(tr_val)"
      ]
    },
    {
      "cell_type": "code",
      "execution_count": null,
      "metadata": {
        "id": "XWCCpxshE4-T",
        "outputId": "92ff925a-331c-46dc-f3da-ea39747c03a6"
      },
      "outputs": [
        {
          "name": "stdout",
          "output_type": "stream",
          "text": [
            "Acc1 _ val :  0.8716603053435115\n",
            "Acc2 _ val :  0.9374045801526718\n",
            "Acc3 _ val :  0.9374045801526718\n"
          ]
        }
      ],
      "source": [
        "cnt=0\n",
        "for u in range(73360):\n",
        "    if(outt_val[u] == labels_val[u]):\n",
        "        cnt += 1\n",
        "print(\"Acc1 _ val : \",cnt/73360)        \n",
        "\n",
        "outt_labels_val = []\n",
        "\n",
        "cnta = 0\n",
        "cntc = 0\n",
        "for u in range(73360//112):\n",
        "    cntb=0\n",
        "    cnt0 = 0\n",
        "    cnt1 = 0\n",
        "    cnt2 = 0\n",
        "    for v in range(112):\n",
        "        if(outt_val[u*112+v] == 1):\n",
        "            cnt1+=1\n",
        "        elif(outt_val[u*112+v] == 2):\n",
        "            cnt2+=1\n",
        "        else:\n",
        "            cnt0+=1\n",
        "    pr2 = -1\n",
        "    if(cnt0 >= cnt1 and cnt0 >= cnt2):\n",
        "        pr2 = 0\n",
        "    elif(cnt1 >= cnt0 and cnt1 >= cnt2):\n",
        "        pr2 = 1\n",
        "    elif(cnt2 >= cnt0 and cnt2 >= cnt1):\n",
        "        pr2 = 2\n",
        "        \n",
        "    if(pr2 == labels_val[u*112]):\n",
        "        cnta+=1\n",
        "    \n",
        "    pr = -1\n",
        "    if(cnt0>56):\n",
        "        pr = 0\n",
        "        outt_labels_val.append(0)\n",
        "    elif(cnt2 > cnt1):\n",
        "        pr = 2\n",
        "        outt_labels_val.append(2)\n",
        "    else:\n",
        "        pr = 1\n",
        "        outt_labels_val.append(1)\n",
        "\n",
        "    if(pr == labels_val[u*112]):\n",
        "        cntc+=1\n",
        "    \n",
        "    \n",
        "print(\"Acc2 _ val : \",cnta/(73360//112))        \n",
        "print(\"Acc3 _ val : \",cntc/(73360//112))        "
      ]
    },
    {
      "cell_type": "code",
      "execution_count": null,
      "metadata": {
        "id": "PnDqsDt5E4-U"
      },
      "outputs": [],
      "source": [
        "outt_test = model.predict(test_feats)"
      ]
    },
    {
      "cell_type": "code",
      "execution_count": null,
      "metadata": {
        "id": "DzkzCrAuE4-U",
        "outputId": "e18cd557-9b38-472c-c976-b5d9928a44b4"
      },
      "outputs": [
        {
          "name": "stdout",
          "output_type": "stream",
          "text": [
            "Acc1 _ train :  0.8858472876330019\n",
            "Acc2 _ test :  0.9633699633699634\n",
            "Acc3 _ test :  0.9645909645909646\n"
          ]
        }
      ],
      "source": [
        "cnt=0\n",
        "for u in range(91728):\n",
        "    if(outt_test[u] == labels_test[u]):\n",
        "        cnt += 1\n",
        "print(\"Acc1 _ train : \",cnt/91728)        \n",
        "\n",
        "outt_labels_test = []\n",
        "\n",
        "cnta = 0\n",
        "cntc = 0\n",
        "for u in range(91728//112):\n",
        "    cntb=0\n",
        "    cnt0 = 0\n",
        "    cnt1 = 0\n",
        "    cnt2 = 0\n",
        "    for v in range(112):\n",
        "        if(outt_test[u*112+v] == 1):\n",
        "            cnt1+=1\n",
        "        elif(outt_test[u*112+v] == 2):\n",
        "            cnt2+=1\n",
        "        else:\n",
        "            cnt0+=1\n",
        "    pr2 = -1\n",
        "    if(cnt0 >= cnt1 and cnt0 >= cnt2):\n",
        "        pr2 = 0\n",
        "    elif(cnt1 >= cnt0 and cnt1 >= cnt2):\n",
        "        pr2 = 1\n",
        "    elif(cnt2 >= cnt0 and cnt2 >= cnt1):\n",
        "        pr2 = 2\n",
        "        \n",
        "    if(pr2 == labels_test[u*112]):\n",
        "        cnta+=1\n",
        "    \n",
        "    pr = -1\n",
        "    if(cnt0>56):\n",
        "        pr = 0\n",
        "        outt_labels_test.append(0)\n",
        "    elif(cnt2 > cnt1):\n",
        "        pr = 2\n",
        "        outt_labels_test.append(2)\n",
        "    else:\n",
        "        pr = 1\n",
        "        outt_labels_test.append(1)\n",
        "\n",
        "    if(pr == labels_test[u*112]):\n",
        "        cntc+=1\n",
        "    \n",
        "    \n",
        "print(\"Acc2 _ test : \",cnta/(91728//112))        \n",
        "print(\"Acc3 _ test : \",cntc/(91728//112))        "
      ]
    }
  ],
  "metadata": {
    "kernelspec": {
      "display_name": "Python 3",
      "language": "python",
      "name": "python3"
    },
    "language_info": {
      "codemirror_mode": {
        "name": "ipython",
        "version": 3
      },
      "file_extension": ".py",
      "mimetype": "text/x-python",
      "name": "python",
      "nbconvert_exporter": "python",
      "pygments_lexer": "ipython3",
      "version": "3.8.5"
    },
    "colab": {
      "name": "KNN-Classifier.ipynb",
      "provenance": []
    }
  },
  "nbformat": 4,
  "nbformat_minor": 0
}