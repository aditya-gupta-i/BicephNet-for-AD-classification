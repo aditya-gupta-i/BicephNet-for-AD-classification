{
  "cells": [
    {
      "cell_type": "markdown",
      "source": [
        "**EXTRACTING FEATURES FOR EACH OF TRAINING, VALIDATION and TEST SUBJECTS (for each slice) FOR PASSING TO KNN CLASSIFIER**\n"
      ],
      "metadata": {
        "id": "cpQSerbcIHJZ"
      }
    },
    {
      "cell_type": "code",
      "execution_count": null,
      "metadata": {
        "id": "mYtZYh27_2pa"
      },
      "outputs": [],
      "source": [
        "adi_path = '/home/iitindmaths/caffe_root_adi/biceph/coronal_cn_vs_ad'\n",
        "datapath_pr = '/media/iitindmaths/Seagate_Expansion_Drive/Bup_Backup/SPM/alzheimers-disease/CN_vs_AD/npy_large/smwp1_coronal'"
      ]
    },
    {
      "cell_type": "code",
      "execution_count": null,
      "metadata": {
        "id": "juolza3A_2pa",
        "outputId": "2ceafe15-4a88-4e0f-b62d-d2521e0c3c6f"
      },
      "outputs": [
        {
          "name": "stdout",
          "output_type": "stream",
          "text": [
            "195665\n",
            "1747\n",
            "(1747, 112, 121, 121, 3)\n"
          ]
        }
      ],
      "source": [
        "#TRAINING\n",
        "\n",
        "cv_setting = load_cross_validation_settings(cv_file)   \n",
        "full_train_dict = cv_setting['train']\n",
        "\n",
        "train_subject_id = full_train_dict['subject_dict']\n",
        "train_subject_group = full_train_dict['subject_group']\n",
        "train_subject_slices = full_train_dict['subject_slices']\n",
        "train_class_ID = []\n",
        "train_class_label = []\n",
        "train_subj_slices = []\n",
        "\n",
        "for idx in train_subject_id.keys():\n",
        "    tmp_id = train_subject_id[idx]\n",
        "    tmp_grp = train_subject_group[idx]\n",
        "    tmp_slices = train_subject_slices[idx]\n",
        "\n",
        "    train_class_ID.append(tmp_id)\n",
        "    train_class_label.append(tmp_grp)\n",
        "    train_subj_slices.append(tmp_slices)\n",
        "    \n",
        "dict_subject_name_to_id = {}\n",
        "cnt = 1\n",
        "for subject_name in train_subject_id:\n",
        "    for x in range(112):\n",
        "        dict_subject_name_to_id[subject_name] = cnt\n",
        "        cnt=cnt+1\n",
        "print(cnt)\n",
        "\n",
        "all_img_batch_tr = []\n",
        "for j in range(len(train_subj_slices)):\n",
        "    img_batch_tr = []\n",
        "    for i in train_subj_slices[j]:\n",
        "        tmp = np.load(datapath_pr + \"/\" + i)\n",
        "        img_batch_tr.append(tmp)\n",
        "    all_img_batch_tr.append(img_batch_tr)\n",
        "print(len(all_img_batch_tr))\n",
        "arr_tr = np.array(all_img_batch_tr)\n",
        "print(arr_tr.shape)"
      ]
    },
    {
      "cell_type": "code",
      "execution_count": null,
      "metadata": {
        "scrolled": true,
        "id": "rIVqlImD_2pa",
        "outputId": "9fd3cc3f-c0d7-44a6-dce7-a057d05739aa"
      },
      "outputs": [
        {
          "name": "stdout",
          "output_type": "stream",
          "text": [
            "1747\n"
          ]
        }
      ],
      "source": [
        "all_result_tr = []\n",
        "all_result_tr_arr_temp = np.array(all_result_tr)\n",
        "for i in range(arr_tr.shape[0]):\n",
        "    tmp2 = arr_tr[i]\n",
        "    tmp2 = tmp2.reshape((112,121,121,3))\n",
        "    result_tr = model.predict(tmp2)\n",
        "    all_result_tr.append(result_tr[0])\n",
        "print(len(all_result_tr))"
      ]
    },
    {
      "cell_type": "code",
      "execution_count": null,
      "metadata": {
        "id": "LF5ZjERv_2pa",
        "outputId": "673be00d-10df-4b88-a7f3-8ff1abc3a3fc"
      },
      "outputs": [
        {
          "name": "stdout",
          "output_type": "stream",
          "text": [
            "1747\n",
            "112\n",
            "(1747, 112, 64)\n",
            "<class 'numpy.ndarray'>\n",
            "(195664, 64)\n",
            "1747\n",
            "<class 'dict'>\n",
            "(195664, 1)\n",
            "<class 'pandas.core.frame.DataFrame'>\n",
            "(1747, 112)\n",
            "(195664, 1)\n",
            "195664\n",
            "1747\n",
            "<class 'dict'>\n",
            "195664\n",
            "[[-0.14312059  0.09315798 -0.04438459 ... -0.1528871  -0.11821031\n",
            "  -0.3472368 ]\n",
            " [-0.13268742  0.13424578 -0.03985141 ... -0.13461275 -0.09601109\n",
            "  -0.34746715]\n",
            " [-0.12104074  0.13838409 -0.04902231 ... -0.11373617 -0.07165246\n",
            "  -0.35521883]\n",
            " ...\n",
            " [-0.04581219  0.19829588  0.05082895 ...  0.1971596  -0.22894536\n",
            "  -0.08036661]\n",
            " [-0.03441156  0.16655967  0.00553935 ...  0.05900977 -0.19569728\n",
            "  -0.18227021]\n",
            " [-0.03760698  0.14530025  0.0043111  ...  0.06540206 -0.18146518\n",
            "  -0.19775146]]\n",
            "(195664, 64)\n"
          ]
        }
      ],
      "source": [
        "all_result_tr_arr = np.array(all_result_tr)\n",
        "print(len(all_result_tr_arr))\n",
        "print(len(all_result_tr_arr[0]))\n",
        "all_result_tr_arr = np.array(all_result_tr)\n",
        "print(all_result_tr_arr.shape)\n",
        "print(type(all_result_tr_arr))\n",
        "all_result_tr_arr = all_result_tr_arr.reshape(len(train_class_label)*112,64)\n",
        "print(all_result_tr_arr.shape)\n",
        "print(len(train_subject_slices))\n",
        "print(type(train_subject_slices))\n",
        "DF_slice_name_np = np.array(train_subject_slices)\n",
        "DF_slice_name = pd.DataFrame(train_subject_slices).transpose()\n",
        "DF_slice_name_np = np.array(DF_slice_name)\n",
        "DF_slice_name_np = DF_slice_name_np.reshape(len(train_class_label)*112,1)\n",
        "print(DF_slice_name_np.shape)\n",
        "print(type(DF_slice_name))\n",
        "print(DF_slice_name.shape)\n",
        "DF_slice_name_final = pd.DataFrame(DF_slice_name_np)\n",
        "DF_slice_name_final.to_csv(adi_path+\"/features_train_slice_name.csv\", encoding='utf-8-sig')\n",
        "print(DF_slice_name_final.shape)\n",
        "\n",
        "labels_train_for_csv = []\n",
        "for labels in train_subject_group.values():\n",
        "    num = 1 #AD\n",
        "    if(labels == 'CN'):\n",
        "        num = 0 #CN\n",
        "    for x in range(112):\n",
        "        labels_train_for_csv.append(num)\n",
        "        \n",
        "print(len(labels_train_for_csv))        \n",
        "labels_train_for_csv_df = pd.DataFrame(labels_train_for_csv)\n",
        "labels_train_for_csv_df.index.name = '0'\n",
        "labels_train_for_csv_df.to_csv(adi_path+\"/labels_AD1_CN0_train.csv\", encoding='utf-8-sig')\n",
        "print(len(train_subject_group))\n",
        "print(type(train_subject_group))\n",
        "\n",
        "sub_name_train_for_csv = []\n",
        "for labels in train_subject_group:\n",
        "    for x in range(112):\n",
        "        sub_name_train_for_csv.append(labels)\n",
        "        \n",
        "print(len(sub_name_train_for_csv))        \n",
        "sub_name_train_for_csv_df = pd.DataFrame(sub_name_train_for_csv)\n",
        "sub_name_train_for_csv_df.to_csv(adi_path+\"/sub_name_train_expanded_ie_112_times_each.csv\", encoding='utf-8-sig')\n",
        "\n",
        "import pandas as pd \n",
        "\n",
        "print(all_result_tr_arr)\n",
        "DF = (pd.DataFrame(all_result_tr_arr))\n",
        "print(DF.shape)\n",
        "DF.index.name = '0'\n",
        "# save the dataframe as a csv file \n",
        "DF.to_csv(adi_path+\"/feature_train.csv\", encoding='utf-8-sig')"
      ]
    },
    {
      "cell_type": "code",
      "execution_count": null,
      "metadata": {
        "id": "Lz_McWOC_2pb",
        "outputId": "dcb75ac5-17bd-4275-bd67-dfc66d5aeffe"
      },
      "outputs": [
        {
          "name": "stdout",
          "output_type": "stream",
          "text": [
            "48945\n",
            "437\n",
            "(437, 112, 121, 121, 3)\n"
          ]
        }
      ],
      "source": [
        "#VALIDATING\n",
        "\n",
        "cv_setting = load_cross_validation_settings(cv_file)   \n",
        "full_val_dict = cv_setting['validation']\n",
        "\n",
        "val_subject_id = full_val_dict['subject_dict']\n",
        "val_subject_group = full_val_dict['subject_group']\n",
        "val_subject_slices = full_val_dict['subject_slices']\n",
        "val_class_ID = []\n",
        "val_class_label = []\n",
        "val_subj_slices = []\n",
        "\n",
        "for idx in val_subject_id.keys():\n",
        "    tmp_id = val_subject_id[idx]\n",
        "    tmp_grp = val_subject_group[idx]\n",
        "    tmp_slices = val_subject_slices[idx]\n",
        "\n",
        "    val_class_ID.append(tmp_id)\n",
        "    val_class_label.append(tmp_grp)\n",
        "    val_subj_slices.append(tmp_slices)\n",
        "    \n",
        "dict_subject_name_to_id = {}\n",
        "cnt = 1\n",
        "for subject_name in val_subject_id:\n",
        "    for x in range(112):\n",
        "        dict_subject_name_to_id[subject_name] = cnt\n",
        "        cnt=cnt+1\n",
        "print(cnt)\n",
        "all_img_batch_val = []\n",
        "for j in range(len(val_subj_slices)):\n",
        "    img_batch_val = []\n",
        "    for i in val_subj_slices[j]:\n",
        "        tmp = np.load(datapath_pr + \"/\" + i)\n",
        "        img_batch_val.append(tmp)\n",
        "    all_img_batch_val.append(img_batch_val)\n",
        "print(len(all_img_batch_val))\n",
        "\n",
        "arr_val = np.array(all_img_batch_val)\n",
        "print(arr_val.shape)"
      ]
    },
    {
      "cell_type": "code",
      "execution_count": null,
      "metadata": {
        "id": "JQbYuFXv_2pb",
        "outputId": "b403e784-eb11-4cf5-80e7-eb8a952c768f"
      },
      "outputs": [
        {
          "name": "stdout",
          "output_type": "stream",
          "text": [
            "437\n"
          ]
        }
      ],
      "source": [
        "all_result_val = []\n",
        "all_result_val_arr_temp = np.array(all_result_val)\n",
        "for i in range(arr_val.shape[0]):\n",
        "    tmp2 = arr_val[i]\n",
        "    tmp2 = tmp2.reshape((112,121,121,3))\n",
        "    result_val = model.predict(tmp2)\n",
        "    all_result_val.append(result_val[0])\n",
        "print(len(all_result_val))"
      ]
    },
    {
      "cell_type": "code",
      "execution_count": null,
      "metadata": {
        "id": "2n4TBsLt_2pb",
        "outputId": "6f168a95-4e36-453c-b834-e0ee2b496707"
      },
      "outputs": [
        {
          "name": "stdout",
          "output_type": "stream",
          "text": [
            "437\n",
            "112\n",
            "(437, 112, 64)\n",
            "<class 'numpy.ndarray'>\n",
            "(48944, 64)\n",
            "437\n",
            "<class 'dict'>\n",
            "(48944, 1)\n",
            "<class 'pandas.core.frame.DataFrame'>\n",
            "(437, 112)\n",
            "(48944, 1)\n",
            "48944\n",
            "437\n",
            "<class 'dict'>\n",
            "48944\n",
            "[[-0.10538512  0.05497131 -0.03972618 ...  0.10166872 -0.28642157\n",
            "   0.0828516 ]\n",
            " [-0.10463464  0.05772401 -0.04171193 ...  0.07934538 -0.28694254\n",
            "   0.07440498]\n",
            " [-0.09594277  0.06998635 -0.06710332 ...  0.06843077 -0.27242813\n",
            "   0.07741193]\n",
            " ...\n",
            " [ 0.0240733  -0.1666875  -0.01065756 ... -0.07663018  0.23636042\n",
            "  -0.1007823 ]\n",
            " [-0.04603095 -0.14114872  0.13618015 ... -0.03832234  0.05541078\n",
            "   0.02589283]\n",
            " [ 0.07187926 -0.178969    0.00502122 ...  0.02688408  0.2828328\n",
            "  -0.00390516]]\n",
            "(48944, 64)\n"
          ]
        }
      ],
      "source": [
        "all_result_val_arr = np.array(all_result_val)\n",
        "print(len(all_result_val_arr))\n",
        "print(len(all_result_val_arr[0]))\n",
        "all_result_val_arr = np.array(all_result_val)\n",
        "print(all_result_val_arr.shape)\n",
        "print(type(all_result_val_arr))\n",
        "all_result_val_arr = all_result_val_arr.reshape(len(val_class_label)*112,64)\n",
        "print(all_result_val_arr.shape)\n",
        "print(len(val_subject_slices))\n",
        "print(type(val_subject_slices))\n",
        "DF_slice_name_np = np.array(val_subject_slices)\n",
        "DF_slice_name = pd.DataFrame(val_subject_slices).transpose()\n",
        "DF_slice_name_np = np.array(DF_slice_name)\n",
        "DF_slice_name_np = DF_slice_name_np.reshape(len(val_class_label)*112,1)\n",
        "print(DF_slice_name_np.shape)\n",
        "print(type(DF_slice_name))\n",
        "print(DF_slice_name.shape)\n",
        "\n",
        "DF_slice_name_final = pd.DataFrame(DF_slice_name_np)\n",
        "DF_slice_name_final.to_csv(adi_path+\"/features_val_slice_name.csv\", encoding='utf-8-sig')\n",
        "\n",
        "print(DF_slice_name_final.shape)\n",
        "labels_val_for_csv = []\n",
        "for labels in val_subject_group.values():\n",
        "    num = 1 #AD\n",
        "    if(labels == 'CN'):\n",
        "        num = 0 #CN\n",
        "    for x in range(112):\n",
        "        labels_val_for_csv.append(num)\n",
        "        \n",
        "print(len(labels_val_for_csv))        \n",
        "labels_val_for_csv_df = pd.DataFrame(labels_val_for_csv)\n",
        "labels_val_for_csv_df.index.name = '0'\n",
        "labels_val_for_csv_df.to_csv(adi_path+\"/labels_AD1_CN0_val.csv\", encoding='utf-8-sig')\n",
        "print(len(val_subject_group))\n",
        "print(type(val_subject_group))\n",
        "\n",
        "sub_name_val_for_csv = []\n",
        "for labels in val_subject_group:\n",
        "    for x in range(112):\n",
        "        sub_name_val_for_csv.append(labels)\n",
        "print(len(sub_name_val_for_csv))        \n",
        "\n",
        "sub_name_val_for_csv_df = pd.DataFrame(sub_name_val_for_csv)\n",
        "sub_name_val_for_csv_df.to_csv(adi_path+\"/sub_name_val_expanded_ie_112_times_each.csv\", encoding='utf-8-sig')\n",
        "\n",
        "print(all_result_val_arr)\n",
        "DF = (pd.DataFrame(all_result_val_arr))\n",
        "print(DF.shape)\n",
        "# save the dataframe as a csv file \n",
        "DF.index.name = '0'\n",
        "DF.to_csv(adi_path+\"/feature_val.csv\", encoding='utf-8-sig')"
      ]
    },
    {
      "cell_type": "code",
      "execution_count": null,
      "metadata": {
        "id": "VAfzMgAk_2pb",
        "outputId": "3319e3ce-1c43-42fd-fae6-85b05deb0dd7"
      },
      "outputs": [
        {
          "name": "stdout",
          "output_type": "stream",
          "text": [
            "61153\n",
            "546\n",
            "(546, 112, 121, 121, 3)\n"
          ]
        }
      ],
      "source": [
        "#testING\n",
        "\n",
        "cv_setting = load_cross_validation_settings(cv_file)   \n",
        "full_test_dict = cv_setting['test']\n",
        "\n",
        "test_subject_id = full_test_dict['subject_dict']\n",
        "test_subject_group = full_test_dict['subject_group']\n",
        "test_subject_slices = full_test_dict['subject_slices']\n",
        "test_class_ID = []\n",
        "test_class_label = []\n",
        "test_subj_slices = []\n",
        "\n",
        "for idx in test_subject_id.keys():\n",
        "    tmp_id = test_subject_id[idx]\n",
        "    tmp_grp = test_subject_group[idx]\n",
        "    tmp_slices = test_subject_slices[idx]\n",
        "\n",
        "    test_class_ID.append(tmp_id)\n",
        "    test_class_label.append(tmp_grp)\n",
        "    test_subj_slices.append(tmp_slices)\n",
        "    \n",
        "dict_subject_name_to_id = {}\n",
        "cnt = 1\n",
        "for subject_name in test_subject_id:\n",
        "    for x in range(112):\n",
        "        dict_subject_name_to_id[subject_name] = cnt\n",
        "        cnt=cnt+1\n",
        "print(cnt)\n",
        "\n",
        "all_img_batch_test = []\n",
        "for j in range(len(test_subj_slices)):\n",
        "    img_batch_test = []\n",
        "    for i in test_subj_slices[j]:\n",
        "        tmp = np.load(datapath_pr + \"/\" + i)\n",
        "        img_batch_test.append(tmp)\n",
        "    all_img_batch_test.append(img_batch_test)\n",
        "print(len(all_img_batch_test))\n",
        "\n",
        "arr_test = np.array(all_img_batch_test)\n",
        "print(arr_test.shape)"
      ]
    },
    {
      "cell_type": "code",
      "execution_count": null,
      "metadata": {
        "id": "UfLnSWa2_2pb",
        "outputId": "6af846e0-74c0-4229-e2d9-8a59f616c42c"
      },
      "outputs": [
        {
          "name": "stdout",
          "output_type": "stream",
          "text": [
            "546\n"
          ]
        }
      ],
      "source": [
        "all_result_test = []\n",
        "all_result_test_arr_temp = np.array(all_result_test)\n",
        "for i in range(arr_test.shape[0]):\n",
        "    tmp2 = arr_test[i]\n",
        "    tmp2 = tmp2.reshape((112,121,121,3))\n",
        "    result_test = model.predict(tmp2)\n",
        "    all_result_test.append(result_test[0])\n",
        "print(len(all_result_test))"
      ]
    },
    {
      "cell_type": "code",
      "execution_count": null,
      "metadata": {
        "id": "7XMVYPBU_2pb",
        "outputId": "555720f8-9cc7-46cb-fda9-0c999d9dd2d1"
      },
      "outputs": [
        {
          "name": "stdout",
          "output_type": "stream",
          "text": [
            "546\n",
            "112\n",
            "(546, 112, 64)\n",
            "<class 'numpy.ndarray'>\n",
            "(61152, 64)\n",
            "546\n",
            "<class 'dict'>\n",
            "(61152, 1)\n",
            "<class 'pandas.core.frame.DataFrame'>\n",
            "(546, 112)\n",
            "(61152, 1)\n",
            "61152\n",
            "546\n",
            "<class 'dict'>\n",
            "61152\n",
            "[[ 0.11880602 -0.20963247  0.10844575 ... -0.37280187  0.05087261\n",
            "  -0.04691907]\n",
            " [ 0.12139065 -0.20515245  0.10453884 ... -0.3722599   0.06506672\n",
            "  -0.05244284]\n",
            " [ 0.10274019 -0.20821111  0.11145929 ... -0.35123742  0.0559872\n",
            "  -0.06260701]\n",
            " ...\n",
            " [ 0.15643096 -0.13115755 -0.12379294 ... -0.2960244   0.11078312\n",
            "  -0.06163938]\n",
            " [ 0.13539858 -0.13979833 -0.12091645 ... -0.27494672  0.10786086\n",
            "  -0.05273696]\n",
            " [ 0.11291521 -0.13336194 -0.11087965 ... -0.25741246  0.1257511\n",
            "  -0.00791542]]\n",
            "(61152, 64)\n"
          ]
        }
      ],
      "source": [
        "all_result_test_arr = np.array(all_result_test)\n",
        "print(len(all_result_test_arr))\n",
        "print(len(all_result_test_arr[0]))\n",
        "all_result_test_arr = np.array(all_result_test)\n",
        "print(all_result_test_arr.shape)\n",
        "print(type(all_result_test_arr))\n",
        "all_result_test_arr = all_result_test_arr.reshape(len(test_class_label)*112,64)\n",
        "print(all_result_test_arr.shape)\n",
        "print(len(test_subject_slices))\n",
        "print(type(test_subject_slices))\n",
        "DF_slice_name_np = np.array(test_subject_slices)\n",
        "DF_slice_name = pd.DataFrame(test_subject_slices).transpose()\n",
        "DF_slice_name_np = np.array(DF_slice_name)\n",
        "DF_slice_name_np = DF_slice_name_np.reshape(len(test_class_label)*112,1)\n",
        "print(DF_slice_name_np.shape)\n",
        "print(type(DF_slice_name))\n",
        "print(DF_slice_name.shape)\n",
        "DF_slice_name_final = pd.DataFrame(DF_slice_name_np)\n",
        "DF_slice_name_final.to_csv(adi_path+\"/features_test_slice_name.csv\", encoding='utf-8-sig')\n",
        "print(DF_slice_name_final.shape)\n",
        "\n",
        "labels_test_for_csv = []\n",
        "for labels in test_subject_group.values():\n",
        "#     print(labels)\n",
        "    num = 1 #AD\n",
        "    if(labels == 'CN'):\n",
        "        num = 0 #CN\n",
        "    for x in range(112):\n",
        "        labels_test_for_csv.append(num)\n",
        "        \n",
        "print(len(labels_test_for_csv))        \n",
        "labels_test_for_csv_df = pd.DataFrame(labels_test_for_csv)\n",
        "labels_test_for_csv_df.index.name = '0'\n",
        "labels_test_for_csv_df.to_csv(adi_path+\"/labels_AD1_CN0_test.csv\", encoding='utf-8-sig')\n",
        "print(len(test_subject_group))\n",
        "print(type(test_subject_group))\n",
        "\n",
        "sub_name_test_for_csv = []\n",
        "for labels in test_subject_group:\n",
        "    for x in range(112):\n",
        "        sub_name_test_for_csv.append(labels)\n",
        "print(len(sub_name_test_for_csv))        \n",
        "\n",
        "sub_name_test_for_csv_df = pd.DataFrame(sub_name_test_for_csv)\n",
        "sub_name_test_for_csv_df.to_csv(adi_path+\"/sub_name_test_expanded_ie_112_times_each.csv\", encoding='utf-8-sig')\n",
        "\n",
        "print(all_result_test_arr)\n",
        "DF = (pd.DataFrame(all_result_test_arr))\n",
        "print(DF.shape)\n",
        "DF.index.name = '0'\n",
        "# save the dataframe as a csv file \n",
        "DF.to_csv(adi_path+\"/feature_test.csv\", encoding='utf-8-sig')"
      ]
    },
    {
      "cell_type": "code",
      "execution_count": null,
      "metadata": {
        "id": "bnA24TOr_2pd"
      },
      "outputs": [],
      "source": [
        ""
      ]
    }
  ],
  "metadata": {
    "kernelspec": {
      "display_name": "Python 3",
      "language": "python",
      "name": "python3"
    },
    "language_info": {
      "codemirror_mode": {
        "name": "ipython",
        "version": 3
      },
      "file_extension": ".py",
      "mimetype": "text/x-python",
      "name": "python",
      "nbconvert_exporter": "python",
      "pygments_lexer": "ipython3",
      "version": "3.8.5"
    },
    "colab": {
      "name": "Feature-Extractor-MODEL-TO-KNN.ipynb",
      "provenance": [],
      "toc_visible": true
    }
  },
  "nbformat": 4,
  "nbformat_minor": 0
}